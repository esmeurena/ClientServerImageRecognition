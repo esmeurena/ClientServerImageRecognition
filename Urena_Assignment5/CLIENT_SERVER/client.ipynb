{
 "cells": [
  {
   "cell_type": "code",
   "execution_count": 1,
   "id": "a76c16cb",
   "metadata": {},
   "outputs": [
    {
     "name": "stdout",
     "output_type": "stream",
     "text": [
      "INFO:tensorflow:Enabling eager execution\n",
      "INFO:tensorflow:Enabling v2 tensorshape\n",
      "INFO:tensorflow:Enabling resource variables\n",
      "INFO:tensorflow:Enabling tensor equality\n",
      "INFO:tensorflow:Enabling control flow v2\n"
     ]
    }
   ],
   "source": [
    "from tensorflow.keras.preprocessing.image import ImageDataGenerator\n",
    "from tensorflow.keras.preprocessing import image\n",
    "# from tensorflow.keras.optimizersimport RMSprop\n",
    "import matplotlib.pyplot as plt\n",
    "import numpy as np\n",
    "import os"
   ]
  },
  {
   "cell_type": "code",
   "execution_count": null,
   "id": "97b49952",
   "metadata": {},
   "outputs": [
    {
     "name": "stdout",
     "output_type": "stream",
     "text": [
      "> client\n",
      "Rock, Paper and Scissors image classification server.\n",
      "Esmeralda Urena\n",
      "May 3rd, 2021\n",
      "> client rock.png\n",
      "Rock, Paper and Scissors image classification server.\n",
      "Esmeralda Urena\n",
      "May 3rd, 2021\n",
      "The image you’ve submitted is classified as a:Rock\n",
      "> client scissor.png\n",
      "Rock, Paper and Scissors image classification server.\n",
      "Esmeralda Urena\n",
      "May 3rd, 2021\n",
      "The image you’ve submitted is classified as a:Scissors\n",
      "> client paper.png\n",
      "Rock, Paper and Scissors image classification server.\n",
      "Esmeralda Urena\n",
      "May 3rd, 2021\n",
      "The image you’ve submitted is classified as a:Paper\n"
     ]
    }
   ],
   "source": [
    "import socket\n",
    "\n",
    "client = socket.socket()\n",
    "port = 1234\n",
    "servername = '192.168.0.147'\n",
    "\n",
    "client.connect((servername,1234))\n",
    "while True:\n",
    "    data = input('> ')\n",
    "    \n",
    "    if not data:\n",
    "        break\n",
    "    client.send(data.encode())\n",
    "    data = client.recv(1024).decode()\n",
    "    #if not data:\n",
    "    #    break\n",
    "    print(data)\n",
    "client.close()"
   ]
  },
  {
   "cell_type": "code",
   "execution_count": null,
   "id": "03e97193",
   "metadata": {},
   "outputs": [],
   "source": []
  }
 ],
 "metadata": {
  "kernelspec": {
   "display_name": "Python 3",
   "language": "python",
   "name": "python3"
  },
  "language_info": {
   "codemirror_mode": {
    "name": "ipython",
    "version": 3
   },
   "file_extension": ".py",
   "mimetype": "text/x-python",
   "name": "python",
   "nbconvert_exporter": "python",
   "pygments_lexer": "ipython3",
   "version": "3.9.4"
  }
 },
 "nbformat": 4,
 "nbformat_minor": 5
}
